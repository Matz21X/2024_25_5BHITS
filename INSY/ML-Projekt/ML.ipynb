{
 "cells": [
  {
   "cell_type": "code",
   "execution_count": null,
   "id": "96ef1f36-ea5a-41dc-b684-f08b57f46b56",
   "metadata": {},
   "outputs": [],
   "source": []
  }
 ],
 "metadata": {
  "kernelspec": {
   "display_name": "",
   "name": ""
  },
  "language_info": {
   "name": ""
  }
 },
 "nbformat": 4,
 "nbformat_minor": 5
}
