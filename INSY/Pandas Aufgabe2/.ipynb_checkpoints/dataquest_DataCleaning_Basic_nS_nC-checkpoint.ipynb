{
 "cells": [
  {
   "cell_type": "markdown",
   "id": "8772ecde",
   "metadata": {},
   "source": [
    "## Data Cleaning Basics"
   ]
  },
  {
   "cell_type": "markdown",
   "id": "003d6d84",
   "metadata": {},
   "source": [
    "### 1 of 13 · Reading CSV Files with Encodings"
   ]
  },
  {
   "cell_type": "markdown",
   "id": "4f320771",
   "metadata": {},
   "source": [
    "#### Instructions\n",
    "\n",
    "1. Import the pandas library using its common alias.\n",
    "2. Use the pandas.read_csv() function to read the laptops.csv file into a dataframe laptops.\n",
    "   - Look at the encoding possibilities.\n",
    "3. Use the DataFrame.info() method to display information about the laptops dataframe.\n",
    "   - Specify the print() function to see the results.\n"
   ]
  },
  {
   "cell_type": "markdown",
   "id": "d68df1c3",
   "metadata": {},
   "source": [
    "### 2 of 13 · Cleaning Column Names"
   ]
  },
  {
   "cell_type": "markdown",
   "id": "6d197a7c",
   "metadata": {},
   "source": [
    "#### Instructions\n",
    "\n",
    "Remove any whitespace from the start and end of each column name.\n",
    "\n",
    "1. Create an empty list named new_columns.\n",
    "2. Create a for loop to iterate over each column name by accessing the DataFrame.columns attribute.\n",
    "3. Inside the body of the for loop, use the str.strip() method to remove whitespace from the start and end of the string and append the updated column name to the new_columns list.\n",
    "4. Assign the updated column names to the DataFrame.columns attribute.\n",
    "5. Use the variable inspector to confirm the changes to the laptops dataframe."
   ]
  },
  {
   "cell_type": "markdown",
   "id": "87b3e593",
   "metadata": {},
   "source": [
    "### 3 of 13 · Cleaning Column Names (Continued)"
   ]
  },
  {
   "cell_type": "markdown",
   "id": "30e23d85",
   "metadata": {},
   "source": [
    "#### Instructions\n",
    "\n",
    "1. Define a function, clean_col, which accepts a string argument, col, that:\n",
    "   - Removes any whitespace from the start and end of the string.\n",
    "   - Replaces the substring Operating System with the abbreviation os.\n",
    "   - Replaces all spaces with underscores.\n",
    "   - Removes parentheses from the string.\n",
    "   - Makes the entire string lowercase.\n",
    "   - Returns the modified string.\n",
    "2. Use a for loop to apply the function to each item in the DataFrame.columns attribute for the laptops dataframe. Assign the result back to the DataFrame.columns attribute.\n",
    "3. Use the variable inspector to confirm the changes to the laptops dataframe."
   ]
  },
  {
   "cell_type": "markdown",
   "id": "60bbd5bc",
   "metadata": {},
   "source": [
    "### 4 of 13 · Converting String Columns to Numeric"
   ]
  },
  {
   "cell_type": "markdown",
   "id": "7f9c009c",
   "metadata": {},
   "source": [
    "#### Instructions\n",
    "\n",
    "1. Use the Series.unique() method to identify the unique values in the ram column of the laptops dataframe. Assign the result to unique_ram.\n",
    "2. Use the print() function to display unique_ram and observe any patterns that will help with converting it to a numeric column."
   ]
  },
  {
   "cell_type": "markdown",
   "id": "3afc0f44",
   "metadata": {},
   "source": [
    "### 5 of 13 · Removing Non-Digit Characters"
   ]
  },
  {
   "cell_type": "markdown",
   "id": "fce519d8",
   "metadata": {},
   "source": [
    "#### Instructions\n",
    "\n",
    "1. Use the Series.str.replace() method to remove the substring GB from the ram column.\n",
    "2. Use the print() function to display the changes to the unique values of the ram column.\n",
    "3. Confirm the dtype on the ram column is still object."
   ]
  },
  {
   "cell_type": "markdown",
   "id": "96e11470",
   "metadata": {},
   "source": [
    "### 6 of 13 · Converting Columns to Numeric dtypes"
   ]
  },
  {
   "cell_type": "markdown",
   "id": "3cb381ca",
   "metadata": {},
   "source": [
    "#### Instructions\n",
    "\n",
    "1. Use the Series.astype() method to cast the ram column to an int dtype.\n",
    "2. Use the print() function to display the dtype of the ram column.\n",
    "3. Use print() and the DataFrame.dtypes attribute to confirm that the screen_size and ram columns have been cast to numeric dtypes."
   ]
  },
  {
   "cell_type": "markdown",
   "id": "a3115629",
   "metadata": {},
   "source": [
    "### 7 of 13 · Renaming Columns"
   ]
  },
  {
   "cell_type": "markdown",
   "id": "9e23218f",
   "metadata": {},
   "source": [
    "#### Instructions\n",
    "\n",
    "1. Because the GB characters contained useful information about the units (gigabytes) of the laptop's ram, use the DataFrame.rename() method to rename the column from ram to ram_gb.\n",
    "2. Use the Series.describe() method to return a series of descriptive statistics for the ram_gb column. Assign the result to ram_gb_desc.\n",
    "3. Use the print() function to display ram_gb_desc."
   ]
  },
  {
   "cell_type": "markdown",
   "id": "6d026e96",
   "metadata": {},
   "source": [
    "### 8 of 13 · Extracting Values from Strings"
   ]
  },
  {
   "cell_type": "markdown",
   "id": "6698b45f",
   "metadata": {},
   "source": [
    "#### Instructions\n",
    "\n",
    "Extact values from a column and store them in a new column.\n",
    "\n",
    "1. Extract the manufacturer name from the gpu column:\n",
    "   - Use the Series.str.split() method to split the gpu column into a list of words. Assign the result to gpu_split.\n",
    "   - Use the Series.str accessor with [] to select the first element of each list of words. Assign the results to a new column gpu_manufacturer of the laptops dataframe.\n",
    "2. Use the Series.value_counts() method to find the counts of each manufacturer in the gpu_manufacturer column. Assign the result to gpu_manufacturer_counts.\n",
    "3. Extract the manufacturer name from the cpu column and assign the results to a new column cpu_manufacturer of the laptops dataframe. Try to do it in one line of code; try not use an intermediate \"cpu_split\" variable.\n",
    "4. Use the Series.value_counts() method to find the counts of each manufacturer in the cpu_manufacturer column. Assign the result to cpu_manufacturer_counts.\n",
    "5. Use the variable inspector to compare gpu_manufacturer_counts with cpu_manufacturer_counts. Notice anyting interesting?"
   ]
  },
  {
   "cell_type": "markdown",
   "id": "a6cfa070",
   "metadata": {},
   "source": [
    "### 9 of 13 · Correcting Bad Values"
   ]
  },
  {
   "cell_type": "markdown",
   "id": "a560ca6a",
   "metadata": {},
   "source": [
    "#### Instructions\n",
    "\n",
    "1. Use the Series.unique() method on the os column to display a list of all the unique values it contains.\n",
    "2. Create a dictionary called mapping_dict where each key is a unique value from the previous step, and the corresponding value is its replacement.\n",
    "   - Remember, we only want to change Mac OS to macOS; all other unique values should remain unchanged.\n",
    "3. Use the Series.map() method along with the mapping_dict dictionary from the previous step to correct the values in the os column.\n",
    "4. Use Series.value_counts() on the os column to display and confirm your changes."
   ]
  },
  {
   "cell_type": "markdown",
   "id": "812eb199",
   "metadata": {},
   "source": [
    "### 10 of 13 · Dropping Missing Values"
   ]
  },
  {
   "cell_type": "markdown",
   "id": "000d1c53",
   "metadata": {},
   "source": [
    "#### Instructions\n",
    "\n",
    "1. Use DataFrame.dropna() to remove any rows from the laptops dataframe that have null values. Assign the result to laptops_no_null_rows.\n",
    "2. Use DataFrame.dropna() to remove any columns from the laptops dataframe that have null values. Assign the result to laptops_no_null_cols.\n",
    "3. Use the variable inspector to compare laptops_no_null_rows and laptops_no_null_cols. Do they have the same shape?"
   ]
  },
  {
   "cell_type": "markdown",
   "id": "e856b2a7",
   "metadata": {},
   "source": [
    "### 11 of 13 · Filling Missing Values"
   ]
  },
  {
   "cell_type": "markdown",
   "id": "5c6f9ace",
   "metadata": {},
   "source": [
    "#### Instructions\n",
    "\n",
    "1. Use a boolean array to select the rows that have the value No OS in the os column. Then, use loc[] and assignment to set the value Not Applicable in the os_version column for those selected rows.\n",
    "2. Use the provided syntax for value_counts_before to create a similar value_counts_after variable.\n",
    "3. Use the variable inspector to compare value_counts_before and value_counts_after."
   ]
  },
  {
   "cell_type": "markdown",
   "id": "2248f3cb",
   "metadata": {},
   "source": [
    "### 12 of 13 · Challenge: Clean a String Column"
   ]
  },
  {
   "cell_type": "markdown",
   "id": "1d2a6659",
   "metadata": {},
   "source": [
    "#### Instructions\n",
    "\n",
    "1. Convert the values in the weight column to numeric values.\n",
    "2. Rename the weight column to weight_kg.\n",
    "3. Use the DataFrame.to_csv() method to save the laptops dataframe to a CSV file /tmp/laptops_cleaned.csv without index labels."
   ]
  },
  {
   "cell_type": "code",
   "execution_count": null,
   "id": "4b86eb25",
   "metadata": {},
   "outputs": [],
   "source": [
    "# Convert the values in the weight column to numeric values"
   ]
  },
  {
   "cell_type": "code",
   "execution_count": null,
   "id": "3b8727d4",
   "metadata": {},
   "outputs": [],
   "source": [
    "# Rename the weight column to weight_kg"
   ]
  },
  {
   "cell_type": "code",
   "execution_count": null,
   "id": "e40809b9",
   "metadata": {},
   "outputs": [],
   "source": [
    "# Use the DataFrame.to_csv() method to save the laptops dataframe to a CSV file /tmp/laptops_cleaned.csv without index labels"
   ]
  },
  {
   "cell_type": "markdown",
   "id": "ac8ff514",
   "metadata": {},
   "source": [
    "### 13 of 13 · Review"
   ]
  },
  {
   "cell_type": "markdown",
   "id": "db6e63f5",
   "metadata": {},
   "source": [
    "Our dataset is almost ready for analysis, but there are still some data cleaning tasks left! Here are your next steps:\n",
    "\n",
    "- Convert the price_euros column to a numeric dtype.\n",
    "- Extract the screen resolution from the screen column.\n",
    "- Extract the processor speed from the cpu column.\n",
    "\n",
    "Here are some questions you might attempt answering by analyzing the cleaned data:\n",
    "\n",
    "- Are laptops made by Apple more expensive than those made by other manufacturers?\n",
    "- What is the best value laptop with a screen size of 15\" or more?\n",
    "- Which laptop has the most storage space?\n",
    "\n",
    "The final lesson in our course is a guided project, where we'll put everything together to clean and analyze a dataset using pandas!"
   ]
  },
  {
   "cell_type": "code",
   "execution_count": null,
   "id": "411c8fe3",
   "metadata": {},
   "outputs": [],
   "source": []
  }
 ],
 "metadata": {
  "kernelspec": {
   "display_name": "Python 3 (ipykernel)",
   "language": "python",
   "name": "python3"
  },
  "language_info": {
   "codemirror_mode": {
    "name": "ipython",
    "version": 3
   },
   "file_extension": ".py",
   "mimetype": "text/x-python",
   "name": "python",
   "nbconvert_exporter": "python",
   "pygments_lexer": "ipython3",
   "version": "3.12.2"
  }
 },
 "nbformat": 4,
 "nbformat_minor": 5
}
