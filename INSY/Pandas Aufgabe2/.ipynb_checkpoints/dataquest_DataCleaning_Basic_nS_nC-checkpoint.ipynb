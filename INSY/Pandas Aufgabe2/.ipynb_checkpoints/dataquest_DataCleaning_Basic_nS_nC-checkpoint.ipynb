{
 "cells": [
  {
   "cell_type": "markdown",
   "id": "8772ecde",
   "metadata": {},
   "source": [
    "## Data Cleaning Basics"
   ]
  },
  {
   "cell_type": "markdown",
   "id": "003d6d84",
   "metadata": {},
   "source": [
    "### 1 of 13 · Reading CSV Files with Encodings"
   ]
  },
  {
   "cell_type": "markdown",
   "id": "4f320771",
   "metadata": {},
   "source": [
    "#### Instructions\n",
    "\n",
    "1. Import the pandas library using its common alias.\n",
    "2. Use the pandas.read_csv() function to read the laptops.csv file into a dataframe laptops.\n",
    "   - Look at the encoding possibilities.\n",
    "3. Use the DataFrame.info() method to display information about the laptops dataframe.\n",
    "   - Specify the print() function to see the results.\n"
   ]
  },
  {
   "cell_type": "code",
   "execution_count": 5,
   "id": "3a33ecd0-72df-4668-823d-ebaa6cad7415",
   "metadata": {
    "scrolled": true
   },
   "outputs": [
    {
     "ename": "FileNotFoundError",
     "evalue": "[Errno 2] No such file or directory: 'laptops.csv'",
     "output_type": "error",
     "traceback": [
      "\u001b[1;31m---------------------------------------------------------------------------\u001b[0m",
      "\u001b[1;31mFileNotFoundError\u001b[0m                         Traceback (most recent call last)",
      "Cell \u001b[1;32mIn[5], line 3\u001b[0m\n\u001b[0;32m      1\u001b[0m \u001b[38;5;28;01mimport\u001b[39;00m \u001b[38;5;21;01mpandas\u001b[39;00m \u001b[38;5;28;01mas\u001b[39;00m \u001b[38;5;21;01mpd\u001b[39;00m\n\u001b[1;32m----> 3\u001b[0m df \u001b[38;5;241m=\u001b[39m \u001b[43mpd\u001b[49m\u001b[38;5;241;43m.\u001b[39;49m\u001b[43mread_csv\u001b[49m\u001b[43m(\u001b[49m\u001b[38;5;124;43m\"\u001b[39;49m\u001b[38;5;124;43mlaptops.csv\u001b[39;49m\u001b[38;5;124;43m\"\u001b[39;49m\u001b[43m,\u001b[49m\u001b[43m \u001b[49m\u001b[43msep\u001b[49m\u001b[38;5;241;43m=\u001b[39;49m\u001b[38;5;124;43m\"\u001b[39;49m\u001b[38;5;124;43m,\u001b[39;49m\u001b[38;5;124;43m\"\u001b[39;49m\u001b[43m)\u001b[49m\n\u001b[0;32m      4\u001b[0m df\u001b[38;5;241m.\u001b[39minfo()\n",
      "File \u001b[1;32m~\\AppData\\Local\\Programs\\Python\\Python312\\Lib\\site-packages\\pandas\\io\\parsers\\readers.py:1026\u001b[0m, in \u001b[0;36mread_csv\u001b[1;34m(filepath_or_buffer, sep, delimiter, header, names, index_col, usecols, dtype, engine, converters, true_values, false_values, skipinitialspace, skiprows, skipfooter, nrows, na_values, keep_default_na, na_filter, verbose, skip_blank_lines, parse_dates, infer_datetime_format, keep_date_col, date_parser, date_format, dayfirst, cache_dates, iterator, chunksize, compression, thousands, decimal, lineterminator, quotechar, quoting, doublequote, escapechar, comment, encoding, encoding_errors, dialect, on_bad_lines, delim_whitespace, low_memory, memory_map, float_precision, storage_options, dtype_backend)\u001b[0m\n\u001b[0;32m   1013\u001b[0m kwds_defaults \u001b[38;5;241m=\u001b[39m _refine_defaults_read(\n\u001b[0;32m   1014\u001b[0m     dialect,\n\u001b[0;32m   1015\u001b[0m     delimiter,\n\u001b[1;32m   (...)\u001b[0m\n\u001b[0;32m   1022\u001b[0m     dtype_backend\u001b[38;5;241m=\u001b[39mdtype_backend,\n\u001b[0;32m   1023\u001b[0m )\n\u001b[0;32m   1024\u001b[0m kwds\u001b[38;5;241m.\u001b[39mupdate(kwds_defaults)\n\u001b[1;32m-> 1026\u001b[0m \u001b[38;5;28;01mreturn\u001b[39;00m \u001b[43m_read\u001b[49m\u001b[43m(\u001b[49m\u001b[43mfilepath_or_buffer\u001b[49m\u001b[43m,\u001b[49m\u001b[43m \u001b[49m\u001b[43mkwds\u001b[49m\u001b[43m)\u001b[49m\n",
      "File \u001b[1;32m~\\AppData\\Local\\Programs\\Python\\Python312\\Lib\\site-packages\\pandas\\io\\parsers\\readers.py:620\u001b[0m, in \u001b[0;36m_read\u001b[1;34m(filepath_or_buffer, kwds)\u001b[0m\n\u001b[0;32m    617\u001b[0m _validate_names(kwds\u001b[38;5;241m.\u001b[39mget(\u001b[38;5;124m\"\u001b[39m\u001b[38;5;124mnames\u001b[39m\u001b[38;5;124m\"\u001b[39m, \u001b[38;5;28;01mNone\u001b[39;00m))\n\u001b[0;32m    619\u001b[0m \u001b[38;5;66;03m# Create the parser.\u001b[39;00m\n\u001b[1;32m--> 620\u001b[0m parser \u001b[38;5;241m=\u001b[39m \u001b[43mTextFileReader\u001b[49m\u001b[43m(\u001b[49m\u001b[43mfilepath_or_buffer\u001b[49m\u001b[43m,\u001b[49m\u001b[43m \u001b[49m\u001b[38;5;241;43m*\u001b[39;49m\u001b[38;5;241;43m*\u001b[39;49m\u001b[43mkwds\u001b[49m\u001b[43m)\u001b[49m\n\u001b[0;32m    622\u001b[0m \u001b[38;5;28;01mif\u001b[39;00m chunksize \u001b[38;5;129;01mor\u001b[39;00m iterator:\n\u001b[0;32m    623\u001b[0m     \u001b[38;5;28;01mreturn\u001b[39;00m parser\n",
      "File \u001b[1;32m~\\AppData\\Local\\Programs\\Python\\Python312\\Lib\\site-packages\\pandas\\io\\parsers\\readers.py:1620\u001b[0m, in \u001b[0;36mTextFileReader.__init__\u001b[1;34m(self, f, engine, **kwds)\u001b[0m\n\u001b[0;32m   1617\u001b[0m     \u001b[38;5;28mself\u001b[39m\u001b[38;5;241m.\u001b[39moptions[\u001b[38;5;124m\"\u001b[39m\u001b[38;5;124mhas_index_names\u001b[39m\u001b[38;5;124m\"\u001b[39m] \u001b[38;5;241m=\u001b[39m kwds[\u001b[38;5;124m\"\u001b[39m\u001b[38;5;124mhas_index_names\u001b[39m\u001b[38;5;124m\"\u001b[39m]\n\u001b[0;32m   1619\u001b[0m \u001b[38;5;28mself\u001b[39m\u001b[38;5;241m.\u001b[39mhandles: IOHandles \u001b[38;5;241m|\u001b[39m \u001b[38;5;28;01mNone\u001b[39;00m \u001b[38;5;241m=\u001b[39m \u001b[38;5;28;01mNone\u001b[39;00m\n\u001b[1;32m-> 1620\u001b[0m \u001b[38;5;28mself\u001b[39m\u001b[38;5;241m.\u001b[39m_engine \u001b[38;5;241m=\u001b[39m \u001b[38;5;28;43mself\u001b[39;49m\u001b[38;5;241;43m.\u001b[39;49m\u001b[43m_make_engine\u001b[49m\u001b[43m(\u001b[49m\u001b[43mf\u001b[49m\u001b[43m,\u001b[49m\u001b[43m \u001b[49m\u001b[38;5;28;43mself\u001b[39;49m\u001b[38;5;241;43m.\u001b[39;49m\u001b[43mengine\u001b[49m\u001b[43m)\u001b[49m\n",
      "File \u001b[1;32m~\\AppData\\Local\\Programs\\Python\\Python312\\Lib\\site-packages\\pandas\\io\\parsers\\readers.py:1880\u001b[0m, in \u001b[0;36mTextFileReader._make_engine\u001b[1;34m(self, f, engine)\u001b[0m\n\u001b[0;32m   1878\u001b[0m     \u001b[38;5;28;01mif\u001b[39;00m \u001b[38;5;124m\"\u001b[39m\u001b[38;5;124mb\u001b[39m\u001b[38;5;124m\"\u001b[39m \u001b[38;5;129;01mnot\u001b[39;00m \u001b[38;5;129;01min\u001b[39;00m mode:\n\u001b[0;32m   1879\u001b[0m         mode \u001b[38;5;241m+\u001b[39m\u001b[38;5;241m=\u001b[39m \u001b[38;5;124m\"\u001b[39m\u001b[38;5;124mb\u001b[39m\u001b[38;5;124m\"\u001b[39m\n\u001b[1;32m-> 1880\u001b[0m \u001b[38;5;28mself\u001b[39m\u001b[38;5;241m.\u001b[39mhandles \u001b[38;5;241m=\u001b[39m \u001b[43mget_handle\u001b[49m\u001b[43m(\u001b[49m\n\u001b[0;32m   1881\u001b[0m \u001b[43m    \u001b[49m\u001b[43mf\u001b[49m\u001b[43m,\u001b[49m\n\u001b[0;32m   1882\u001b[0m \u001b[43m    \u001b[49m\u001b[43mmode\u001b[49m\u001b[43m,\u001b[49m\n\u001b[0;32m   1883\u001b[0m \u001b[43m    \u001b[49m\u001b[43mencoding\u001b[49m\u001b[38;5;241;43m=\u001b[39;49m\u001b[38;5;28;43mself\u001b[39;49m\u001b[38;5;241;43m.\u001b[39;49m\u001b[43moptions\u001b[49m\u001b[38;5;241;43m.\u001b[39;49m\u001b[43mget\u001b[49m\u001b[43m(\u001b[49m\u001b[38;5;124;43m\"\u001b[39;49m\u001b[38;5;124;43mencoding\u001b[39;49m\u001b[38;5;124;43m\"\u001b[39;49m\u001b[43m,\u001b[49m\u001b[43m \u001b[49m\u001b[38;5;28;43;01mNone\u001b[39;49;00m\u001b[43m)\u001b[49m\u001b[43m,\u001b[49m\n\u001b[0;32m   1884\u001b[0m \u001b[43m    \u001b[49m\u001b[43mcompression\u001b[49m\u001b[38;5;241;43m=\u001b[39;49m\u001b[38;5;28;43mself\u001b[39;49m\u001b[38;5;241;43m.\u001b[39;49m\u001b[43moptions\u001b[49m\u001b[38;5;241;43m.\u001b[39;49m\u001b[43mget\u001b[49m\u001b[43m(\u001b[49m\u001b[38;5;124;43m\"\u001b[39;49m\u001b[38;5;124;43mcompression\u001b[39;49m\u001b[38;5;124;43m\"\u001b[39;49m\u001b[43m,\u001b[49m\u001b[43m \u001b[49m\u001b[38;5;28;43;01mNone\u001b[39;49;00m\u001b[43m)\u001b[49m\u001b[43m,\u001b[49m\n\u001b[0;32m   1885\u001b[0m \u001b[43m    \u001b[49m\u001b[43mmemory_map\u001b[49m\u001b[38;5;241;43m=\u001b[39;49m\u001b[38;5;28;43mself\u001b[39;49m\u001b[38;5;241;43m.\u001b[39;49m\u001b[43moptions\u001b[49m\u001b[38;5;241;43m.\u001b[39;49m\u001b[43mget\u001b[49m\u001b[43m(\u001b[49m\u001b[38;5;124;43m\"\u001b[39;49m\u001b[38;5;124;43mmemory_map\u001b[39;49m\u001b[38;5;124;43m\"\u001b[39;49m\u001b[43m,\u001b[49m\u001b[43m \u001b[49m\u001b[38;5;28;43;01mFalse\u001b[39;49;00m\u001b[43m)\u001b[49m\u001b[43m,\u001b[49m\n\u001b[0;32m   1886\u001b[0m \u001b[43m    \u001b[49m\u001b[43mis_text\u001b[49m\u001b[38;5;241;43m=\u001b[39;49m\u001b[43mis_text\u001b[49m\u001b[43m,\u001b[49m\n\u001b[0;32m   1887\u001b[0m \u001b[43m    \u001b[49m\u001b[43merrors\u001b[49m\u001b[38;5;241;43m=\u001b[39;49m\u001b[38;5;28;43mself\u001b[39;49m\u001b[38;5;241;43m.\u001b[39;49m\u001b[43moptions\u001b[49m\u001b[38;5;241;43m.\u001b[39;49m\u001b[43mget\u001b[49m\u001b[43m(\u001b[49m\u001b[38;5;124;43m\"\u001b[39;49m\u001b[38;5;124;43mencoding_errors\u001b[39;49m\u001b[38;5;124;43m\"\u001b[39;49m\u001b[43m,\u001b[49m\u001b[43m \u001b[49m\u001b[38;5;124;43m\"\u001b[39;49m\u001b[38;5;124;43mstrict\u001b[39;49m\u001b[38;5;124;43m\"\u001b[39;49m\u001b[43m)\u001b[49m\u001b[43m,\u001b[49m\n\u001b[0;32m   1888\u001b[0m \u001b[43m    \u001b[49m\u001b[43mstorage_options\u001b[49m\u001b[38;5;241;43m=\u001b[39;49m\u001b[38;5;28;43mself\u001b[39;49m\u001b[38;5;241;43m.\u001b[39;49m\u001b[43moptions\u001b[49m\u001b[38;5;241;43m.\u001b[39;49m\u001b[43mget\u001b[49m\u001b[43m(\u001b[49m\u001b[38;5;124;43m\"\u001b[39;49m\u001b[38;5;124;43mstorage_options\u001b[39;49m\u001b[38;5;124;43m\"\u001b[39;49m\u001b[43m,\u001b[49m\u001b[43m \u001b[49m\u001b[38;5;28;43;01mNone\u001b[39;49;00m\u001b[43m)\u001b[49m\u001b[43m,\u001b[49m\n\u001b[0;32m   1889\u001b[0m \u001b[43m\u001b[49m\u001b[43m)\u001b[49m\n\u001b[0;32m   1890\u001b[0m \u001b[38;5;28;01massert\u001b[39;00m \u001b[38;5;28mself\u001b[39m\u001b[38;5;241m.\u001b[39mhandles \u001b[38;5;129;01mis\u001b[39;00m \u001b[38;5;129;01mnot\u001b[39;00m \u001b[38;5;28;01mNone\u001b[39;00m\n\u001b[0;32m   1891\u001b[0m f \u001b[38;5;241m=\u001b[39m \u001b[38;5;28mself\u001b[39m\u001b[38;5;241m.\u001b[39mhandles\u001b[38;5;241m.\u001b[39mhandle\n",
      "File \u001b[1;32m~\\AppData\\Local\\Programs\\Python\\Python312\\Lib\\site-packages\\pandas\\io\\common.py:873\u001b[0m, in \u001b[0;36mget_handle\u001b[1;34m(path_or_buf, mode, encoding, compression, memory_map, is_text, errors, storage_options)\u001b[0m\n\u001b[0;32m    868\u001b[0m \u001b[38;5;28;01melif\u001b[39;00m \u001b[38;5;28misinstance\u001b[39m(handle, \u001b[38;5;28mstr\u001b[39m):\n\u001b[0;32m    869\u001b[0m     \u001b[38;5;66;03m# Check whether the filename is to be opened in binary mode.\u001b[39;00m\n\u001b[0;32m    870\u001b[0m     \u001b[38;5;66;03m# Binary mode does not support 'encoding' and 'newline'.\u001b[39;00m\n\u001b[0;32m    871\u001b[0m     \u001b[38;5;28;01mif\u001b[39;00m ioargs\u001b[38;5;241m.\u001b[39mencoding \u001b[38;5;129;01mand\u001b[39;00m \u001b[38;5;124m\"\u001b[39m\u001b[38;5;124mb\u001b[39m\u001b[38;5;124m\"\u001b[39m \u001b[38;5;129;01mnot\u001b[39;00m \u001b[38;5;129;01min\u001b[39;00m ioargs\u001b[38;5;241m.\u001b[39mmode:\n\u001b[0;32m    872\u001b[0m         \u001b[38;5;66;03m# Encoding\u001b[39;00m\n\u001b[1;32m--> 873\u001b[0m         handle \u001b[38;5;241m=\u001b[39m \u001b[38;5;28;43mopen\u001b[39;49m\u001b[43m(\u001b[49m\n\u001b[0;32m    874\u001b[0m \u001b[43m            \u001b[49m\u001b[43mhandle\u001b[49m\u001b[43m,\u001b[49m\n\u001b[0;32m    875\u001b[0m \u001b[43m            \u001b[49m\u001b[43mioargs\u001b[49m\u001b[38;5;241;43m.\u001b[39;49m\u001b[43mmode\u001b[49m\u001b[43m,\u001b[49m\n\u001b[0;32m    876\u001b[0m \u001b[43m            \u001b[49m\u001b[43mencoding\u001b[49m\u001b[38;5;241;43m=\u001b[39;49m\u001b[43mioargs\u001b[49m\u001b[38;5;241;43m.\u001b[39;49m\u001b[43mencoding\u001b[49m\u001b[43m,\u001b[49m\n\u001b[0;32m    877\u001b[0m \u001b[43m            \u001b[49m\u001b[43merrors\u001b[49m\u001b[38;5;241;43m=\u001b[39;49m\u001b[43merrors\u001b[49m\u001b[43m,\u001b[49m\n\u001b[0;32m    878\u001b[0m \u001b[43m            \u001b[49m\u001b[43mnewline\u001b[49m\u001b[38;5;241;43m=\u001b[39;49m\u001b[38;5;124;43m\"\u001b[39;49m\u001b[38;5;124;43m\"\u001b[39;49m\u001b[43m,\u001b[49m\n\u001b[0;32m    879\u001b[0m \u001b[43m        \u001b[49m\u001b[43m)\u001b[49m\n\u001b[0;32m    880\u001b[0m     \u001b[38;5;28;01melse\u001b[39;00m:\n\u001b[0;32m    881\u001b[0m         \u001b[38;5;66;03m# Binary mode\u001b[39;00m\n\u001b[0;32m    882\u001b[0m         handle \u001b[38;5;241m=\u001b[39m \u001b[38;5;28mopen\u001b[39m(handle, ioargs\u001b[38;5;241m.\u001b[39mmode)\n",
      "\u001b[1;31mFileNotFoundError\u001b[0m: [Errno 2] No such file or directory: 'laptops.csv'"
     ]
    }
   ],
   "source": [
    "import pandas as pd\n",
    "\n",
    "df = pd.read_csv(\"laptops.csv\", sep=\",\")\n",
    "df.info()"
   ]
  },
  {
   "cell_type": "markdown",
   "id": "d68df1c3",
   "metadata": {},
   "source": [
    "### 2 of 13 · Cleaning Column Names"
   ]
  },
  {
   "cell_type": "markdown",
   "id": "6d197a7c",
   "metadata": {},
   "source": [
    "#### Instructions\n",
    "\n",
    "Remove any whitespace from the start and end of each column name.\n",
    "\n",
    "1. Create an empty list named new_columns.\n",
    "2. Create a for loop to iterate over each column name by accessing the DataFrame.columns attribute.\n",
    "3. Inside the body of the for loop, use the str.strip() method to remove whitespace from the start and end of the string and append the updated column name to the new_columns list.\n",
    "4. Assign the updated column names to the DataFrame.columns attribute.\n",
    "5. Use the variable inspector to confirm the changes to the laptops dataframe."
   ]
  },
  {
   "cell_type": "markdown",
   "id": "87b3e593",
   "metadata": {},
   "source": [
    "### 3 of 13 · Cleaning Column Names (Continued)"
   ]
  },
  {
   "cell_type": "markdown",
   "id": "30e23d85",
   "metadata": {},
   "source": [
    "#### Instructions\n",
    "\n",
    "1. Define a function, clean_col, which accepts a string argument, col, that:\n",
    "   - Removes any whitespace from the start and end of the string.\n",
    "   - Replaces the substring Operating System with the abbreviation os.\n",
    "   - Replaces all spaces with underscores.\n",
    "   - Removes parentheses from the string.\n",
    "   - Makes the entire string lowercase.\n",
    "   - Returns the modified string.\n",
    "2. Use a for loop to apply the function to each item in the DataFrame.columns attribute for the laptops dataframe. Assign the result back to the DataFrame.columns attribute.\n",
    "3. Use the variable inspector to confirm the changes to the laptops dataframe."
   ]
  },
  {
   "cell_type": "markdown",
   "id": "60bbd5bc",
   "metadata": {},
   "source": [
    "### 4 of 13 · Converting String Columns to Numeric"
   ]
  },
  {
   "cell_type": "markdown",
   "id": "7f9c009c",
   "metadata": {},
   "source": [
    "#### Instructions\n",
    "\n",
    "1. Use the Series.unique() method to identify the unique values in the ram column of the laptops dataframe. Assign the result to unique_ram.\n",
    "2. Use the print() function to display unique_ram and observe any patterns that will help with converting it to a numeric column."
   ]
  },
  {
   "cell_type": "markdown",
   "id": "3afc0f44",
   "metadata": {},
   "source": [
    "### 5 of 13 · Removing Non-Digit Characters"
   ]
  },
  {
   "cell_type": "markdown",
   "id": "fce519d8",
   "metadata": {},
   "source": [
    "#### Instructions\n",
    "\n",
    "1. Use the Series.str.replace() method to remove the substring GB from the ram column.\n",
    "2. Use the print() function to display the changes to the unique values of the ram column.\n",
    "3. Confirm the dtype on the ram column is still object."
   ]
  },
  {
   "cell_type": "markdown",
   "id": "96e11470",
   "metadata": {},
   "source": [
    "### 6 of 13 · Converting Columns to Numeric dtypes"
   ]
  },
  {
   "cell_type": "markdown",
   "id": "3cb381ca",
   "metadata": {},
   "source": [
    "#### Instructions\n",
    "\n",
    "1. Use the Series.astype() method to cast the ram column to an int dtype.\n",
    "2. Use the print() function to display the dtype of the ram column.\n",
    "3. Use print() and the DataFrame.dtypes attribute to confirm that the screen_size and ram columns have been cast to numeric dtypes."
   ]
  },
  {
   "cell_type": "markdown",
   "id": "a3115629",
   "metadata": {},
   "source": [
    "### 7 of 13 · Renaming Columns"
   ]
  },
  {
   "cell_type": "markdown",
   "id": "9e23218f",
   "metadata": {},
   "source": [
    "#### Instructions\n",
    "\n",
    "1. Because the GB characters contained useful information about the units (gigabytes) of the laptop's ram, use the DataFrame.rename() method to rename the column from ram to ram_gb.\n",
    "2. Use the Series.describe() method to return a series of descriptive statistics for the ram_gb column. Assign the result to ram_gb_desc.\n",
    "3. Use the print() function to display ram_gb_desc."
   ]
  },
  {
   "cell_type": "markdown",
   "id": "6d026e96",
   "metadata": {},
   "source": [
    "### 8 of 13 · Extracting Values from Strings"
   ]
  },
  {
   "cell_type": "markdown",
   "id": "6698b45f",
   "metadata": {},
   "source": [
    "#### Instructions\n",
    "\n",
    "Extact values from a column and store them in a new column.\n",
    "\n",
    "1. Extract the manufacturer name from the gpu column:\n",
    "   - Use the Series.str.split() method to split the gpu column into a list of words. Assign the result to gpu_split.\n",
    "   - Use the Series.str accessor with [] to select the first element of each list of words. Assign the results to a new column gpu_manufacturer of the laptops dataframe.\n",
    "2. Use the Series.value_counts() method to find the counts of each manufacturer in the gpu_manufacturer column. Assign the result to gpu_manufacturer_counts.\n",
    "3. Extract the manufacturer name from the cpu column and assign the results to a new column cpu_manufacturer of the laptops dataframe. Try to do it in one line of code; try not use an intermediate \"cpu_split\" variable.\n",
    "4. Use the Series.value_counts() method to find the counts of each manufacturer in the cpu_manufacturer column. Assign the result to cpu_manufacturer_counts.\n",
    "5. Use the variable inspector to compare gpu_manufacturer_counts with cpu_manufacturer_counts. Notice anyting interesting?"
   ]
  },
  {
   "cell_type": "markdown",
   "id": "a6cfa070",
   "metadata": {},
   "source": [
    "### 9 of 13 · Correcting Bad Values"
   ]
  },
  {
   "cell_type": "markdown",
   "id": "a560ca6a",
   "metadata": {},
   "source": [
    "#### Instructions\n",
    "\n",
    "1. Use the Series.unique() method on the os column to display a list of all the unique values it contains.\n",
    "2. Create a dictionary called mapping_dict where each key is a unique value from the previous step, and the corresponding value is its replacement.\n",
    "   - Remember, we only want to change Mac OS to macOS; all other unique values should remain unchanged.\n",
    "3. Use the Series.map() method along with the mapping_dict dictionary from the previous step to correct the values in the os column.\n",
    "4. Use Series.value_counts() on the os column to display and confirm your changes."
   ]
  },
  {
   "cell_type": "markdown",
   "id": "812eb199",
   "metadata": {},
   "source": [
    "### 10 of 13 · Dropping Missing Values"
   ]
  },
  {
   "cell_type": "markdown",
   "id": "000d1c53",
   "metadata": {},
   "source": [
    "#### Instructions\n",
    "\n",
    "1. Use DataFrame.dropna() to remove any rows from the laptops dataframe that have null values. Assign the result to laptops_no_null_rows.\n",
    "2. Use DataFrame.dropna() to remove any columns from the laptops dataframe that have null values. Assign the result to laptops_no_null_cols.\n",
    "3. Use the variable inspector to compare laptops_no_null_rows and laptops_no_null_cols. Do they have the same shape?"
   ]
  },
  {
   "cell_type": "markdown",
   "id": "e856b2a7",
   "metadata": {},
   "source": [
    "### 11 of 13 · Filling Missing Values"
   ]
  },
  {
   "cell_type": "markdown",
   "id": "5c6f9ace",
   "metadata": {},
   "source": [
    "#### Instructions\n",
    "\n",
    "1. Use a boolean array to select the rows that have the value No OS in the os column. Then, use loc[] and assignment to set the value Not Applicable in the os_version column for those selected rows.\n",
    "2. Use the provided syntax for value_counts_before to create a similar value_counts_after variable.\n",
    "3. Use the variable inspector to compare value_counts_before and value_counts_after."
   ]
  },
  {
   "cell_type": "markdown",
   "id": "2248f3cb",
   "metadata": {},
   "source": [
    "### 12 of 13 · Challenge: Clean a String Column"
   ]
  },
  {
   "cell_type": "markdown",
   "id": "1d2a6659",
   "metadata": {},
   "source": [
    "#### Instructions\n",
    "\n",
    "1. Convert the values in the weight column to numeric values.\n",
    "2. Rename the weight column to weight_kg.\n",
    "3. Use the DataFrame.to_csv() method to save the laptops dataframe to a CSV file /tmp/laptops_cleaned.csv without index labels."
   ]
  },
  {
   "cell_type": "code",
   "execution_count": null,
   "id": "4b86eb25",
   "metadata": {},
   "outputs": [],
   "source": [
    "# Convert the values in the weight column to numeric values"
   ]
  },
  {
   "cell_type": "code",
   "execution_count": null,
   "id": "3b8727d4",
   "metadata": {},
   "outputs": [],
   "source": [
    "# Rename the weight column to weight_kg"
   ]
  },
  {
   "cell_type": "code",
   "execution_count": null,
   "id": "e40809b9",
   "metadata": {},
   "outputs": [],
   "source": [
    "# Use the DataFrame.to_csv() method to save the laptops dataframe to a CSV file /tmp/laptops_cleaned.csv without index labels"
   ]
  },
  {
   "cell_type": "markdown",
   "id": "ac8ff514",
   "metadata": {},
   "source": [
    "### 13 of 13 · Review"
   ]
  },
  {
   "cell_type": "markdown",
   "id": "db6e63f5",
   "metadata": {},
   "source": [
    "Our dataset is almost ready for analysis, but there are still some data cleaning tasks left! Here are your next steps:\n",
    "\n",
    "- Convert the price_euros column to a numeric dtype.\n",
    "- Extract the screen resolution from the screen column.\n",
    "- Extract the processor speed from the cpu column.\n",
    "\n",
    "Here are some questions you might attempt answering by analyzing the cleaned data:\n",
    "\n",
    "- Are laptops made by Apple more expensive than those made by other manufacturers?\n",
    "- What is the best value laptop with a screen size of 15\" or more?\n",
    "- Which laptop has the most storage space?\n",
    "\n",
    "The final lesson in our course is a guided project, where we'll put everything together to clean and analyze a dataset using pandas!"
   ]
  },
  {
   "cell_type": "code",
   "execution_count": null,
   "id": "411c8fe3",
   "metadata": {},
   "outputs": [],
   "source": []
  }
 ],
 "metadata": {
  "kernelspec": {
   "display_name": "Python 3 (ipykernel)",
   "language": "python",
   "name": "python3"
  },
  "language_info": {
   "codemirror_mode": {
    "name": "ipython",
    "version": 3
   },
   "file_extension": ".py",
   "mimetype": "text/x-python",
   "name": "python",
   "nbconvert_exporter": "python",
   "pygments_lexer": "ipython3",
   "version": "3.12.6"
  }
 },
 "nbformat": 4,
 "nbformat_minor": 5
}
