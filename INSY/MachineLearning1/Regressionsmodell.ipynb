{
 "cells": [
  {
   "cell_type": "code",
   "execution_count": null,
   "id": "aeeabcec-b12b-44d6-bc1f-0a0bdd6906b7",
   "metadata": {},
   "outputs": [],
   "source": []
  }
 ],
 "metadata": {
  "kernelspec": {
   "display_name": "",
   "name": ""
  },
  "language_info": {
   "name": ""
  }
 },
 "nbformat": 4,
 "nbformat_minor": 5
}
