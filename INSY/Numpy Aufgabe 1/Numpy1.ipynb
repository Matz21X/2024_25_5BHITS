{
 "cells": [
  {
   "cell_type": "code",
   "execution_count": 2,
   "id": "3bdae675-eeed-4d1a-b664-6343df5fcafb",
   "metadata": {},
   "outputs": [
    {
     "name": "stdout",
     "output_type": "stream",
     "text": [
      "2.1.1\n"
     ]
    }
   ],
   "source": [
    "import numpy as np\n",
    "print(np.__version__)"
   ]
  },
  {
   "cell_type": "code",
   "execution_count": 3,
   "id": "9fcfd276-b630-4207-82da-b48d8249c37e",
   "metadata": {},
   "outputs": [
    {
     "name": "stdout",
     "output_type": "stream",
     "text": [
      "[0. 0. 0. 0. 0. 0. 0. 0. 0. 0.]\n",
      "[[[0.10362065 0.98549679 0.69292666 0.4358948 ]\n",
      "  [0.18045632 0.44187721 0.1228532  0.31208661]\n",
      "  [0.43138268 0.85785213 0.35791962 0.77611685]]\n",
      "\n",
      " [[0.71306421 0.17134599 0.62023991 0.92207041]\n",
      "  [0.0797287  0.76123189 0.68357903 0.44094687]\n",
      "  [0.58917292 0.52062424 0.12389529 0.57443995]]]\n"
     ]
    }
   ],
   "source": [
    "null_vector = np.zeros(10)\n",
    "print(null_vector)\n",
    "random = np.random.rand(2,3,4)\n",
    "print(random)\n"
   ]
  },
  {
   "cell_type": "code",
   "execution_count": 9,
   "id": "26a402ff-3420-40fc-ab5c-e7836abf771f",
   "metadata": {},
   "outputs": [
    {
     "name": "stdout",
     "output_type": "stream",
     "text": [
      "24\n"
     ]
    }
   ],
   "source": [
    "arr = np.array([1, 2, 3])\n",
    "print(arr.nbytes)  # in Bytes\n"
   ]
  },
  {
   "cell_type": "code",
   "execution_count": 10,
   "id": "e07c764c-2dbf-456c-9c7e-9c5a00d78e11",
   "metadata": {},
   "outputs": [
    {
     "ename": "SyntaxError",
     "evalue": "invalid syntax (4208605629.py, line 1)",
     "output_type": "error",
     "traceback": [
      "\u001b[1;36m  Cell \u001b[1;32mIn[10], line 1\u001b[1;36m\u001b[0m\n\u001b[1;33m    python -c \"import numpy as np; help(np.add)\"\u001b[0m\n\u001b[1;37m              ^\u001b[0m\n\u001b[1;31mSyntaxError\u001b[0m\u001b[1;31m:\u001b[0m invalid syntax\n"
     ]
    }
   ],
   "source": [
    "python -c \"import numpy as np; help(np.add)\"\n"
   ]
  },
  {
   "cell_type": "code",
   "execution_count": 11,
   "id": "bc7a27d7-1d2d-447f-9de1-91476b632c8a",
   "metadata": {},
   "outputs": [
    {
     "name": "stdout",
     "output_type": "stream",
     "text": [
      "[0. 0. 0. 0. 1. 0. 0. 0. 0. 0.]\n"
     ]
    }
   ],
   "source": [
    "vector = np.zeros(10)\n",
    "vector[4] = 1\n",
    "print(vector)\n"
   ]
  },
  {
   "cell_type": "code",
   "execution_count": 12,
   "id": "2e047af7-0dab-4410-becf-7c3d7be1d25d",
   "metadata": {},
   "outputs": [
    {
     "name": "stdout",
     "output_type": "stream",
     "text": [
      "[10 11 12 13 14 15 16 17 18 19 20 21 22 23 24 25 26 27 28 29 30 31 32 33\n",
      " 34 35 36 37 38 39 40 41 42 43 44 45 46 47 48 49]\n"
     ]
    }
   ],
   "source": [
    "vector = np.arange(10, 50)\n",
    "print(vector)\n"
   ]
  },
  {
   "cell_type": "code",
   "execution_count": 13,
   "id": "c8de4671-ac1c-4afa-b333-619d34a76a7d",
   "metadata": {},
   "outputs": [
    {
     "name": "stdout",
     "output_type": "stream",
     "text": [
      "[49 48 47 46 45 44 43 42 41 40 39 38 37 36 35 34 33 32 31 30 29 28 27 26\n",
      " 25 24 23 22 21 20 19 18 17 16 15 14 13 12 11 10]\n"
     ]
    }
   ],
   "source": [
    "vector = np.arange(10, 50)\n",
    "reversed_vector = vector[::-1]\n",
    "print(reversed_vector)\n"
   ]
  },
  {
   "cell_type": "code",
   "execution_count": 14,
   "id": "c67e04c3-6a05-41be-acef-fe7a5ed5da9d",
   "metadata": {},
   "outputs": [
    {
     "name": "stdout",
     "output_type": "stream",
     "text": [
      "[[0 1 2]\n",
      " [3 4 5]\n",
      " [6 7 8]]\n"
     ]
    }
   ],
   "source": [
    "matrix = np.arange(9).reshape(3, 3)\n",
    "print(matrix)\n"
   ]
  },
  {
   "cell_type": "code",
   "execution_count": 15,
   "id": "d9b75bd4-9ff1-42b5-b3d1-de8f1aeb28c5",
   "metadata": {},
   "outputs": [
    {
     "name": "stdout",
     "output_type": "stream",
     "text": [
      "(array([0, 1, 4]),)\n"
     ]
    }
   ],
   "source": [
    "arr = np.array([1, 2, 0, 0, 4, 0])\n",
    "non_zero_indices = np.nonzero(arr)\n",
    "print(non_zero_indices)\n"
   ]
  },
  {
   "cell_type": "code",
   "execution_count": 8,
   "id": "20e43143-7c38-498b-a459-fdd567f75f19",
   "metadata": {},
   "outputs": [
    {
     "name": "stdout",
     "output_type": "stream",
     "text": [
      "[[[[9.76614362e-01 5.71093855e-01 8.14493004e-01]\n",
      "   [4.86785625e-01 2.25642904e-01 3.94064000e-01]\n",
      "   [6.07378367e-01 4.92602286e-01 8.75531250e-01]\n",
      "   [2.43730596e-01 8.80088333e-01 8.33680778e-02]\n",
      "   [1.02350699e-01 5.59022628e-01 8.26769147e-01]]\n",
      "\n",
      "  [[8.87241548e-01 3.83216532e-01 4.73669050e-01]\n",
      "   [3.50253000e-01 8.80839880e-01 5.88391382e-01]\n",
      "   [4.70619154e-02 4.55791667e-01 5.29764165e-01]\n",
      "   [8.94448767e-01 5.33541664e-01 4.46781060e-01]\n",
      "   [8.06163513e-01 2.17643704e-01 7.30903157e-01]]\n",
      "\n",
      "  [[1.63479553e-01 1.17160336e-01 8.78123137e-01]\n",
      "   [7.19743592e-01 6.94442935e-01 6.59490780e-01]\n",
      "   [8.32226470e-02 7.08258135e-01 2.97079628e-01]\n",
      "   [4.58678288e-01 8.64506756e-01 6.36485021e-02]\n",
      "   [7.35253142e-01 9.21228425e-02 5.57730532e-01]]]\n",
      "\n",
      "\n",
      " [[[9.57654659e-01 9.41890067e-01 9.43206838e-01]\n",
      "   [4.48120746e-01 5.67525454e-01 2.17075633e-02]\n",
      "   [8.25117850e-01 5.93340694e-01 1.70965775e-01]\n",
      "   [8.71483624e-01 6.16138077e-01 4.95609840e-01]\n",
      "   [6.61356080e-01 9.72757858e-01 2.52532936e-01]]\n",
      "\n",
      "  [[4.30649770e-01 8.13366081e-01 2.36922469e-01]\n",
      "   [8.60149698e-04 3.48596955e-01 8.22937635e-01]\n",
      "   [1.75032311e-01 6.11268878e-02 7.70128747e-01]\n",
      "   [7.40302820e-01 1.16074045e-01 1.32573410e-01]\n",
      "   [8.14652256e-01 3.05566628e-01 8.63013972e-01]]\n",
      "\n",
      "  [[3.13555765e-01 3.64339277e-01 3.48270025e-01]\n",
      "   [6.87714323e-01 1.72316876e-02 7.66414994e-01]\n",
      "   [7.05234844e-01 8.83491991e-01 9.16321270e-01]\n",
      "   [9.83320667e-01 7.80135697e-01 6.82169814e-01]\n",
      "   [4.26563598e-01 8.32221691e-01 7.58723401e-01]]]\n",
      "\n",
      "\n",
      " [[[4.60955823e-01 8.51709816e-01 5.90406243e-01]\n",
      "   [7.84368588e-01 4.49762328e-01 7.29187500e-02]\n",
      "   [3.86773228e-01 2.71387070e-01 5.63086090e-01]\n",
      "   [6.16887665e-01 4.70208894e-01 6.03684941e-01]\n",
      "   [4.87860779e-01 4.75233525e-01 2.76943447e-01]]\n",
      "\n",
      "  [[5.42319721e-01 7.16314847e-01 9.87027414e-01]\n",
      "   [5.75156728e-01 3.54092766e-01 9.32961095e-01]\n",
      "   [3.82735526e-01 9.08518363e-01 5.19002698e-01]\n",
      "   [6.29016438e-01 8.23978501e-01 2.51498996e-01]\n",
      "   [8.86373405e-01 1.45674454e-01 9.15658907e-01]]\n",
      "\n",
      "  [[3.84196925e-01 6.62229169e-01 2.01881016e-01]\n",
      "   [2.09580875e-01 9.09627061e-01 8.95928623e-01]\n",
      "   [2.56217231e-01 2.10246093e-01 8.26612242e-01]\n",
      "   [7.09270233e-01 4.17214572e-01 4.58039036e-01]\n",
      "   [7.48069912e-01 7.11501956e-01 7.51551788e-01]]]\n",
      "\n",
      "\n",
      " [[[5.80270814e-01 3.39335346e-01 8.62028805e-01]\n",
      "   [2.83548559e-01 3.52340847e-01 2.01263118e-01]\n",
      "   [1.32056467e-01 2.75526840e-01 3.31723503e-01]\n",
      "   [4.01521718e-01 8.57442928e-01 8.00340840e-01]\n",
      "   [7.37999676e-01 5.47389352e-01 3.47332356e-01]]\n",
      "\n",
      "  [[3.81757700e-01 5.44025898e-01 3.47214612e-01]\n",
      "   [5.75304392e-02 4.75448169e-01 6.28571347e-01]\n",
      "   [5.28073377e-01 7.17219913e-01 8.42724448e-02]\n",
      "   [3.48871006e-01 8.13949711e-01 1.10870211e-01]\n",
      "   [4.49460662e-01 2.90773683e-02 4.88178033e-01]]\n",
      "\n",
      "  [[8.12216712e-01 4.44976098e-01 5.67840959e-01]\n",
      "   [5.90355965e-01 2.89595652e-01 7.09215653e-02]\n",
      "   [5.76615478e-01 3.91894031e-01 3.48104223e-01]\n",
      "   [2.45229009e-01 8.52678849e-01 6.27318796e-01]\n",
      "   [6.99906514e-01 8.52651815e-01 1.84135292e-01]]]\n",
      "\n",
      "\n",
      " [[[6.38712787e-02 6.42302332e-01 1.17006984e-01]\n",
      "   [3.11001225e-01 2.17636855e-01 8.83764671e-01]\n",
      "   [1.18281217e-01 4.56222164e-01 3.22555237e-01]\n",
      "   [1.86158830e-01 3.02339948e-01 8.30258136e-01]\n",
      "   [8.08407700e-01 1.27036106e-02 5.92956931e-01]]\n",
      "\n",
      "  [[6.73468876e-01 2.13287126e-01 1.02352273e-01]\n",
      "   [3.30116702e-03 4.68196029e-01 1.66109290e-01]\n",
      "   [3.24070540e-01 3.09872635e-01 9.26484326e-01]\n",
      "   [5.31698243e-01 6.07186063e-01 1.24914856e-01]\n",
      "   [7.28570122e-01 4.13781096e-01 8.60450828e-01]]\n",
      "\n",
      "  [[3.41169107e-01 5.70708266e-01 7.00521332e-01]\n",
      "   [6.53974864e-01 3.64295161e-01 1.18976737e-01]\n",
      "   [5.98007661e-01 1.73846763e-01 2.02316112e-01]\n",
      "   [9.46693340e-02 5.91107691e-01 5.65174093e-02]\n",
      "   [4.88998691e-01 3.00677391e-01 5.54009667e-01]]]]\n"
     ]
    }
   ],
   "source": [
    "random_array = np.random.random((5,3,5,3))\n",
    "print(random_array)\n"
   ]
  },
  {
   "cell_type": "code",
   "execution_count": 9,
   "id": "020a3057-124e-4dec-b020-ca49447520a9",
   "metadata": {},
   "outputs": [
    {
     "ename": "ValueError",
     "evalue": "cannot reshape array of size 225 into shape (2,3,4)",
     "output_type": "error",
     "traceback": [
      "\u001b[1;31m---------------------------------------------------------------------------\u001b[0m",
      "\u001b[1;31mValueError\u001b[0m                                Traceback (most recent call last)",
      "Cell \u001b[1;32mIn[9], line 1\u001b[0m\n\u001b[1;32m----> 1\u001b[0m \u001b[43mrandom_array\u001b[49m\u001b[38;5;241;43m.\u001b[39;49m\u001b[43mreshape\u001b[49m\u001b[43m(\u001b[49m\u001b[38;5;241;43m2\u001b[39;49m\u001b[43m,\u001b[49m\u001b[38;5;241;43m3\u001b[39;49m\u001b[43m,\u001b[49m\u001b[38;5;241;43m4\u001b[39;49m\u001b[43m)\u001b[49m\n\u001b[0;32m      2\u001b[0m \u001b[38;5;28mprint\u001b[39m(random_array)\n\u001b[0;32m      4\u001b[0m random_vector \u001b[38;5;241m=\u001b[39m np\u001b[38;5;241m.\u001b[39mrandom\u001b[38;5;241m.\u001b[39mrandom(\u001b[38;5;241m30\u001b[39m)\n",
      "\u001b[1;31mValueError\u001b[0m: cannot reshape array of size 225 into shape (2,3,4)"
     ]
    }
   ],
   "source": [
    "random_array.reshape(2,3,4)\n",
    "print(random_array)\n",
    "\n",
    "random_vector = np.random.random(30)\n",
    "mean_value = random_vector.mean()\n",
    "print(mean_value)\n"
   ]
  },
  {
   "cell_type": "code",
   "execution_count": 18,
   "id": "a5231ac3-84f8-4bda-be95-5591756e9836",
   "metadata": {},
   "outputs": [
    {
     "name": "stdout",
     "output_type": "stream",
     "text": [
      "[[1. 1. 1. 1. 1.]\n",
      " [1. 0. 0. 0. 1.]\n",
      " [1. 0. 0. 0. 1.]\n",
      " [1. 0. 0. 0. 1.]\n",
      " [1. 1. 1. 1. 1.]]\n"
     ]
    }
   ],
   "source": [
    "matrix = np.ones((5, 5))\n",
    "matrix[1:-1, 1:-1] = 0\n",
    "print(matrix)\n"
   ]
  },
  {
   "cell_type": "code",
   "execution_count": 23,
   "id": "b1655f97-8425-46c1-87a7-b3169ef22a73",
   "metadata": {},
   "outputs": [
    {
     "name": "stdout",
     "output_type": "stream",
     "text": [
      "[[0 0 0 0]\n",
      " [0 1 1 0]\n",
      " [0 1 1 0]\n",
      " [0 0 0 0]]\n"
     ]
    }
   ],
   "source": [
    "arr = np.array([[1, 1], [1, 1]])\n",
    "bordered_arr = np.pad(arr, pad_width=1, mode='constant', constant_values=0)\n",
    "print(bordered_arr)\n"
   ]
  },
  {
   "cell_type": "code",
   "execution_count": 24,
   "id": "a07fb679-a8b6-48f9-8be4-57992a401500",
   "metadata": {},
   "outputs": [
    {
     "name": "stdout",
     "output_type": "stream",
     "text": [
      "nan\n",
      "False\n",
      "False\n",
      "nan\n",
      "True\n",
      "False\n"
     ]
    }
   ],
   "source": [
    "print(0 * np.nan)  # nan\n",
    "print(np.nan == np.nan)  # False\n",
    "print(np.inf > np.nan)  # False\n",
    "print(np.nan - np.nan)  # nan\n",
    "print(np.nan in set([np.nan]))  # True\n",
    "print(0.3 == 3 * 0.1)  # False\n"
   ]
  },
  {
   "cell_type": "code",
   "execution_count": 26,
   "id": "21b8280a-465b-45bf-93c5-82643c487bd9",
   "metadata": {},
   "outputs": [
    {
     "name": "stdout",
     "output_type": "stream",
     "text": [
      "[[0. 0. 0. 0. 0.]\n",
      " [1. 0. 0. 0. 0.]\n",
      " [0. 2. 0. 0. 0.]\n",
      " [0. 0. 3. 0. 0.]\n",
      " [0. 0. 0. 4. 0.]]\n"
     ]
    }
   ],
   "source": [
    "matrix = np.zeros((5, 5))\n",
    "np.fill_diagonal(matrix[1:], [1, 2, 3, 4])\n",
    "print(matrix)\n"
   ]
  },
  {
   "cell_type": "code",
   "execution_count": 27,
   "id": "e4b858d4-0d9f-43c5-b975-5719454ff14b",
   "metadata": {},
   "outputs": [
    {
     "name": "stdout",
     "output_type": "stream",
     "text": [
      "[[0 1 0 1 0 1 0 1]\n",
      " [1 0 1 0 1 0 1 0]\n",
      " [0 1 0 1 0 1 0 1]\n",
      " [1 0 1 0 1 0 1 0]\n",
      " [0 1 0 1 0 1 0 1]\n",
      " [1 0 1 0 1 0 1 0]\n",
      " [0 1 0 1 0 1 0 1]\n",
      " [1 0 1 0 1 0 1 0]]\n"
     ]
    }
   ],
   "source": [
    "checkerboard = np.zeros((8, 8), dtype=int)\n",
    "checkerboard[1::2, ::2] = 1\n",
    "checkerboard[::2, 1::2] = 1\n",
    "print(checkerboard)\n"
   ]
  },
  {
   "cell_type": "code",
   "execution_count": 28,
   "id": "acc69ab9-ba91-4860-953a-5f84816cc9c0",
   "metadata": {},
   "outputs": [
    {
     "name": "stdout",
     "output_type": "stream",
     "text": [
      "(np.int64(1), np.int64(5), np.int64(4))\n"
     ]
    }
   ],
   "source": [
    "arr = np.arange(6*7*8).reshape(6, 7, 8)\n",
    "index = np.unravel_index(100, arr.shape)\n",
    "print(index)\n"
   ]
  },
  {
   "cell_type": "code",
   "execution_count": null,
   "id": "2ac47d30-3fa0-4358-b6cd-5069a515cdf8",
   "metadata": {},
   "outputs": [],
   "source": []
  }
 ],
 "metadata": {
  "kernelspec": {
   "display_name": "Python 3 (ipykernel)",
   "language": "python",
   "name": "python3"
  },
  "language_info": {
   "codemirror_mode": {
    "name": "ipython",
    "version": 3
   },
   "file_extension": ".py",
   "mimetype": "text/x-python",
   "name": "python",
   "nbconvert_exporter": "python",
   "pygments_lexer": "ipython3",
   "version": "3.12.6"
  }
 },
 "nbformat": 4,
 "nbformat_minor": 5
}
