{
 "cells": [
  {
   "cell_type": "code",
   "execution_count": 1,
   "id": "3bdae675-eeed-4d1a-b664-6343df5fcafb",
   "metadata": {},
   "outputs": [
    {
     "name": "stdout",
     "output_type": "stream",
     "text": [
      "2.1.1\n"
     ]
    }
   ],
   "source": [
    "import numpy as np\n",
    "print(np.__version__)"
   ]
  },
  {
   "cell_type": "code",
   "execution_count": 2,
   "id": "9fcfd276-b630-4207-82da-b48d8249c37e",
   "metadata": {},
   "outputs": [
    {
     "name": "stdout",
     "output_type": "stream",
     "text": [
      "[0. 0. 0. 0. 0. 0. 0. 0. 0. 0.]\n",
      "[[[0.8257215  0.87244005 0.50055465 0.76753692]\n",
      "  [0.28225289 0.12600452 0.96682605 0.31035366]\n",
      "  [0.79246362 0.48074164 0.51223028 0.3785273 ]]\n",
      "\n",
      " [[0.15738202 0.92291385 0.70788295 0.30235058]\n",
      "  [0.54751613 0.5192438  0.46722489 0.73837581]\n",
      "  [0.81830818 0.2585091  0.54257396 0.18737089]]]\n"
     ]
    }
   ],
   "source": [
    "null_vector = np.zeros(10)\n",
    "print(null_vector)\n",
    "random = np.random.rand(2,3,4)\n",
    "print(random)\n"
   ]
  },
  {
   "cell_type": "code",
   "execution_count": 3,
   "id": "26a402ff-3420-40fc-ab5c-e7836abf771f",
   "metadata": {},
   "outputs": [
    {
     "name": "stdout",
     "output_type": "stream",
     "text": [
      "24\n"
     ]
    }
   ],
   "source": [
    "arr = np.array([1, 2, 3])\n",
    "print(arr.nbytes)  # in Bytes\n"
   ]
  },
  {
   "cell_type": "code",
   "execution_count": 4,
   "id": "e07c764c-2dbf-456c-9c7e-9c5a00d78e11",
   "metadata": {},
   "outputs": [
    {
     "ename": "SyntaxError",
     "evalue": "invalid syntax (4208605629.py, line 1)",
     "output_type": "error",
     "traceback": [
      "\u001b[1;36m  Cell \u001b[1;32mIn[4], line 1\u001b[1;36m\u001b[0m\n\u001b[1;33m    python -c \"import numpy as np; help(np.add)\"\u001b[0m\n\u001b[1;37m              ^\u001b[0m\n\u001b[1;31mSyntaxError\u001b[0m\u001b[1;31m:\u001b[0m invalid syntax\n"
     ]
    }
   ],
   "source": [
    "python -c \"import numpy as np; help(np.add)\"\n"
   ]
  },
  {
   "cell_type": "code",
   "execution_count": null,
   "id": "bc7a27d7-1d2d-447f-9de1-91476b632c8a",
   "metadata": {},
   "outputs": [],
   "source": [
    "vector = np.zeros(10)\n",
    "vector[4] = 1\n",
    "print(vector)\n"
   ]
  },
  {
   "cell_type": "code",
   "execution_count": null,
   "id": "2e047af7-0dab-4410-becf-7c3d7be1d25d",
   "metadata": {},
   "outputs": [],
   "source": [
    "vector = np.arange(10, 50)\n",
    "print(vector)\n"
   ]
  },
  {
   "cell_type": "code",
   "execution_count": null,
   "id": "c8de4671-ac1c-4afa-b333-619d34a76a7d",
   "metadata": {},
   "outputs": [],
   "source": [
    "vector = np.arange(10, 50)\n",
    "reversed_vector = vector[::-1]\n",
    "print(reversed_vector)\n"
   ]
  },
  {
   "cell_type": "code",
   "execution_count": null,
   "id": "c67e04c3-6a05-41be-acef-fe7a5ed5da9d",
   "metadata": {},
   "outputs": [],
   "source": [
    "matrix = np.arange(9).reshape(3, 3)\n",
    "print(matrix)\n"
   ]
  },
  {
   "cell_type": "code",
   "execution_count": null,
   "id": "d9b75bd4-9ff1-42b5-b3d1-de8f1aeb28c5",
   "metadata": {},
   "outputs": [],
   "source": [
    "arr = np.array([1, 2, 0, 0, 4, 0])\n",
    "non_zero_indices = np.nonzero(arr)\n",
    "print(non_zero_indices)\n"
   ]
  },
  {
   "cell_type": "code",
   "execution_count": null,
   "id": "20e43143-7c38-498b-a459-fdd567f75f19",
   "metadata": {},
   "outputs": [],
   "source": [
    "random_array = np.random.random((2,4))\n",
    "print(random_array)\n"
   ]
  },
  {
   "cell_type": "code",
   "execution_count": null,
   "id": "020a3057-124e-4dec-b020-ca49447520a9",
   "metadata": {},
   "outputs": [],
   "source": [
    "random_array.reshape(4,-1)\n",
    "print(random_array)\n",
    "\n",
    "random_vector = np.random.random(30)\n",
    "mean_value = random_vector.mean()\n",
    "print(mean_value)\n"
   ]
  },
  {
   "cell_type": "code",
   "execution_count": null,
   "id": "a5231ac3-84f8-4bda-be95-5591756e9836",
   "metadata": {},
   "outputs": [],
   "source": [
    "matrix = np.ones((5, 5))\n",
    "matrix[1:-1, 1:-1] = 0\n",
    "print(matrix)\n"
   ]
  },
  {
   "cell_type": "code",
   "execution_count": null,
   "id": "b1655f97-8425-46c1-87a7-b3169ef22a73",
   "metadata": {},
   "outputs": [],
   "source": [
    "arr = np.array([[1, 1], [1, 1]])\n",
    "bordered_arr = np.pad(arr, pad_width=1, mode='constant', constant_values=0)\n",
    "print(bordered_arr)\n"
   ]
  },
  {
   "cell_type": "code",
   "execution_count": null,
   "id": "a07fb679-a8b6-48f9-8be4-57992a401500",
   "metadata": {},
   "outputs": [],
   "source": [
    "print(0 * np.nan)  # nan\n",
    "print(np.nan == np.nan)  # False\n",
    "print(np.inf > np.nan)  # False\n",
    "print(np.nan - np.nan)  # nan\n",
    "print(np.nan in set([np.nan]))  # True\n",
    "print(0.3 == 3 * 0.1)  # False\n"
   ]
  },
  {
   "cell_type": "code",
   "execution_count": null,
   "id": "21b8280a-465b-45bf-93c5-82643c487bd9",
   "metadata": {},
   "outputs": [],
   "source": [
    "matrix = np.zeros((5, 5))\n",
    "np.fill_diagonal(matrix[1:], [1, 2, 3, 4])\n",
    "print(matrix)\n"
   ]
  },
  {
   "cell_type": "code",
   "execution_count": 6,
   "id": "e4b858d4-0d9f-43c5-b975-5719454ff14b",
   "metadata": {},
   "outputs": [
    {
     "name": "stdout",
     "output_type": "stream",
     "text": [
      "[[0 2 0 2 0 2 0 2]\n",
      " [1 0 1 0 1 0 1 0]\n",
      " [0 2 0 2 0 2 0 2]\n",
      " [1 0 1 0 1 0 1 0]\n",
      " [0 2 0 2 0 2 0 2]\n",
      " [1 0 1 0 1 0 1 0]\n",
      " [0 2 0 2 0 2 0 2]\n",
      " [1 0 1 0 1 0 1 0]]\n"
     ]
    }
   ],
   "source": [
    "checkerboard = np.zeros((8, 8), dtype=int)\n",
    "checkerboard[1::2, ::2] = 1\n",
    "checkerboard[::2, 1::2] = 2\n",
    "print(checkerboard)\n"
   ]
  },
  {
   "cell_type": "code",
   "execution_count": null,
   "id": "acc69ab9-ba91-4860-953a-5f84816cc9c0",
   "metadata": {},
   "outputs": [],
   "source": [
    "arr = np.arange(6*7*8).reshape(6, 7, 8)\n",
    "index = np.unravel_index(100, arr.shape)\n",
    "print(index)\n"
   ]
  },
  {
   "cell_type": "code",
   "execution_count": 9,
   "id": "2ac47d30-3fa0-4358-b6cd-5069a515cdf8",
   "metadata": {},
   "outputs": [
    {
     "name": "stdout",
     "output_type": "stream",
     "text": [
      "Steigung (m): 4800.000000000001\n",
      "Achsenabschnitt (b): 25199.999999999996\n"
     ]
    },
    {
     "data": {
      "image/png": "[encoded data removed]",
      "text/plain": [
       "<Figure size 640x480 with 1 Axes>"
      ]
     },
     "metadata": {},
     "output_type": "display_data"
    }
   ],
   "source": [
    "import numpy as np\n",
    "import matplotlib.pyplot as plt\n",
    "from sklearn.linear_model import LinearRegression\n",
    "\n",
    "# Daten\n",
    "x = np.array([1, 2, 3, 4, 5]).reshape(-1, 1)  # Unabhängige Variable (Erfahrung)\n",
    "y = np.array([30000, 35000, 40000, 43000, 50000])  # Abhängige Variable (Gehalt)\n",
    "\n",
    "# Modell erstellen und trainieren\n",
    "model = LinearRegression()\n",
    "model.fit(x, y)\n",
    "\n",
    "# Vorhersagen\n",
    "y_pred = model.predict(x)\n",
    "\n",
    "# Modellparameter\n",
    "print(\"Steigung (m):\", model.coef_[0])\n",
    "print(\"Achsenabschnitt (b):\", model.intercept_)\n",
    "\n",
    "# Visualisierung\n",
    "plt.scatter(x, y, color='blue', label='Datenpunkte')\n",
    "plt.plot(x, y_pred, color='red', label='Regressionslinie')\n",
    "plt.xlabel('Erfahrung (Jahre)')\n",
    "plt.ylabel('Gehalt (in €)')\n",
    "plt.title('Lineare Regression: Gehalt vs. Erfahrung')\n",
    "plt.legend()\n",
    "plt.show()\n"
   ]
  },
  {
   "cell_type": "code",
   "execution_count": null,
   "id": "1911a4aa-72a9-4630-91e7-c5f7bd9fb6a2",
   "metadata": {},
   "outputs": [],
   "source": []
  }
 ],
 "metadata": {
  "kernelspec": {
   "display_name": "Python 3 (ipykernel)",
   "language": "python",
   "name": "python3"
  },
  "language_info": {
   "codemirror_mode": {
    "name": "ipython",
    "version": 3
   },
   "file_extension": ".py",
   "mimetype": "text/x-python",
   "name": "python",
   "nbconvert_exporter": "python",
   "pygments_lexer": "ipython3",
   "version": "3.12.6"
  }
 },
 "nbformat": 4,
 "nbformat_minor": 5
}
