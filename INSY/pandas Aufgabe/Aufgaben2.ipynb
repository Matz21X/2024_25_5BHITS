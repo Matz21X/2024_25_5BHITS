{
 "cells": [
  {
   "cell_type": "code",
   "execution_count": 2,
   "id": "a5f84036-2c20-4653-b687-a8967a94de77",
   "metadata": {},
   "outputs": [
    {
     "data": {
      "text/html": [
       "<div>\n",
       "<style scoped>\n",
       "    .dataframe tbody tr th:only-of-type {\n",
       "        vertical-align: middle;\n",
       "    }\n",
       "\n",
       "    .dataframe tbody tr th {\n",
       "        vertical-align: top;\n",
       "    }\n",
       "\n",
       "    .dataframe thead th {\n",
       "        text-align: right;\n",
       "    }\n",
       "</style>\n",
       "<table border=\"1\" class=\"dataframe\">\n",
       "  <thead>\n",
       "    <tr style=\"text-align: right;\">\n",
       "      <th></th>\n",
       "      <th>dt</th>\n",
       "      <th>AverageTemperature</th>\n",
       "      <th>AverageTemperatureUncertainty</th>\n",
       "      <th>City</th>\n",
       "      <th>Country</th>\n",
       "      <th>Latitude</th>\n",
       "      <th>Longitude</th>\n",
       "    </tr>\n",
       "  </thead>\n",
       "  <tbody>\n",
       "    <tr>\n",
       "      <th>0</th>\n",
       "      <td>1849-01-01</td>\n",
       "      <td>26.704</td>\n",
       "      <td>1.435</td>\n",
       "      <td>Abidjan</td>\n",
       "      <td>Côte D'Ivoire</td>\n",
       "      <td>5.63N</td>\n",
       "      <td>3.23W</td>\n",
       "    </tr>\n",
       "    <tr>\n",
       "      <th>1</th>\n",
       "      <td>1849-02-01</td>\n",
       "      <td>27.434</td>\n",
       "      <td>1.362</td>\n",
       "      <td>Abidjan</td>\n",
       "      <td>Côte D'Ivoire</td>\n",
       "      <td>5.63N</td>\n",
       "      <td>3.23W</td>\n",
       "    </tr>\n",
       "    <tr>\n",
       "      <th>2</th>\n",
       "      <td>1849-03-01</td>\n",
       "      <td>28.101</td>\n",
       "      <td>1.612</td>\n",
       "      <td>Abidjan</td>\n",
       "      <td>Côte D'Ivoire</td>\n",
       "      <td>5.63N</td>\n",
       "      <td>3.23W</td>\n",
       "    </tr>\n",
       "    <tr>\n",
       "      <th>3</th>\n",
       "      <td>1849-04-01</td>\n",
       "      <td>26.140</td>\n",
       "      <td>1.387</td>\n",
       "      <td>Abidjan</td>\n",
       "      <td>Côte D'Ivoire</td>\n",
       "      <td>5.63N</td>\n",
       "      <td>3.23W</td>\n",
       "    </tr>\n",
       "    <tr>\n",
       "      <th>4</th>\n",
       "      <td>1849-05-01</td>\n",
       "      <td>25.427</td>\n",
       "      <td>1.200</td>\n",
       "      <td>Abidjan</td>\n",
       "      <td>Côte D'Ivoire</td>\n",
       "      <td>5.63N</td>\n",
       "      <td>3.23W</td>\n",
       "    </tr>\n",
       "  </tbody>\n",
       "</table>\n",
       "</div>"
      ],
      "text/plain": [
       "           dt  AverageTemperature  AverageTemperatureUncertainty     City  \\\n",
       "0  1849-01-01              26.704                          1.435  Abidjan   \n",
       "1  1849-02-01              27.434                          1.362  Abidjan   \n",
       "2  1849-03-01              28.101                          1.612  Abidjan   \n",
       "3  1849-04-01              26.140                          1.387  Abidjan   \n",
       "4  1849-05-01              25.427                          1.200  Abidjan   \n",
       "\n",
       "         Country Latitude Longitude  \n",
       "0  Côte D'Ivoire    5.63N     3.23W  \n",
       "1  Côte D'Ivoire    5.63N     3.23W  \n",
       "2  Côte D'Ivoire    5.63N     3.23W  \n",
       "3  Côte D'Ivoire    5.63N     3.23W  \n",
       "4  Côte D'Ivoire    5.63N     3.23W  "
      ]
     },
     "execution_count": 2,
     "metadata": {},
     "output_type": "execute_result"
    }
   ],
   "source": [
    "import pandas as pd\n",
    "data_file = 'GlobalLandTemperaturesByMajorCity.csv.bz2'\n",
    "weather_data = pd.read_csv(data_file, compression='bz2')\n",
    "weather_data.head()"
   ]
  },
  {
   "cell_type": "code",
   "execution_count": 7,
   "id": "51a2eb84-5053-4e4b-891b-facb62f7cca0",
   "metadata": {},
   "outputs": [
    {
     "name": "stdout",
     "output_type": "stream",
     "text": [
      "24.122938217747947\n",
      "17.32718700802066\n"
     ]
    }
   ],
   "source": [
    "# Aufgabe 1\n",
    "avg_temp_equator = weather_data.loc[(weather_data['Latitude'].astype(str).str[:-1].astype(float) >= -10) & \n",
    "                                     (weather_data['Latitude'].astype(str).str[:-1].astype(float) <= 10), \n",
    "                                     'AverageTemperature'].mean()\n",
    "avg_temp_outside_equator = weather_data.loc[(weather_data['Latitude'].astype(str).str[:-1].astype(float) < -10) | \n",
    "                                             (weather_data['Latitude'].astype(str).str[:-1].astype(float) > 10), \n",
    "                                             'AverageTemperature'].mean()\n",
    "print(avg_temp_equator)\n",
    "print(avg_temp_outside_equator)"
   ]
  },
  {
   "cell_type": "code",
   "execution_count": 8,
   "id": "dcaca020-1cfa-406e-b666-142380c7a982",
   "metadata": {},
   "outputs": [
    {
     "name": "stdout",
     "output_type": "stream",
     "text": [
      "Sudan\n"
     ]
    }
   ],
   "source": [
    "# Aufgabe 2\n",
    "country_highest_avg_temp = weather_data.groupby('Country')['AverageTemperature'].mean().idxmax()\n",
    "\n",
    "print(country_highest_avg_temp)"
   ]
  },
  {
   "cell_type": "code",
   "execution_count": 10,
   "id": "8ae10ddd-55c3-4f4f-94e8-ebcdb2f16d14",
   "metadata": {},
   "outputs": [
    {
     "name": "stdout",
     "output_type": "stream",
     "text": [
      "Das wärmste Jahr war: 1998 mit einer Durchschnittstemperatur von 19.946030833333335°C\n"
     ]
    }
   ],
   "source": [
    "# Aufgabe 3\n",
    "filtered_data = weather_data[pd.to_datetime(weather_data['dt']) <= pd.to_datetime(\"2012-12-31\")]\n",
    "filtered_data = filtered_data[pd.to_datetime(filtered_data['dt']) >= pd.to_datetime(\"1990-01-01\")]\n",
    "avg_temp_per_year = filtered_data.groupby(pd.to_datetime(filtered_data['dt']).dt.year)['AverageTemperature'].mean()\n",
    "warmest_year = avg_temp_per_year.idxmax()\n",
    "\n",
    "print(f\"Das wärmste Jahr war: {warmest_year} mit einer Durchschnittstemperatur von {avg_temp_per_year.max()}°C\")"
   ]
  },
  {
   "cell_type": "code",
   "execution_count": null,
   "id": "ba3d7f4f-327a-4a6c-b70a-4c838761ffa1",
   "metadata": {},
   "outputs": [],
   "source": []
  }
 ],
 "metadata": {
  "kernelspec": {
   "display_name": "Python 3 (ipykernel)",
   "language": "python",
   "name": "python3"
  },
  "language_info": {
   "codemirror_mode": {
    "name": "ipython",
    "version": 3
   },
   "file_extension": ".py",
   "mimetype": "text/x-python",
   "name": "python",
   "nbconvert_exporter": "python",
   "pygments_lexer": "ipython3",
   "version": "3.12.6"
  }
 },
 "nbformat": 4,
 "nbformat_minor": 5
}
